{
 "cells": [
  {
   "cell_type": "code",
   "execution_count": 1,
   "metadata": {
    "collapsed": true
   },
   "outputs": [],
   "source": [
    "import pandas as pd\n",
    "import numpy as np\n",
    "import matplotlib.pyplot as plt\n",
    "from sklearn.ensemble import RandomForestClassifier\n",
    "from sklearn.model_selection import train_test_split\n",
    "from sklearn.metrics import precision_recall_curve\n",
    "from sklearn import metrics\n",
    "from sklearn import svm\n",
    "from sklearn.metrics import roc_curve, auc,classification_report\n",
    "import seaborn as sns\n",
    "from sklearn.linear_model import LogisticRegression\n",
    "from sklearn.model_selection import GridSearchCV\n",
    "\n",
    "%matplotlib inline"
   ]
  },
  {
   "cell_type": "code",
   "execution_count": 2,
   "metadata": {
    "collapsed": false
   },
   "outputs": [
    {
     "data": {
      "text/html": [
       "<div>\n",
       "<style>\n",
       "    .dataframe thead tr:only-child th {\n",
       "        text-align: right;\n",
       "    }\n",
       "\n",
       "    .dataframe thead th {\n",
       "        text-align: left;\n",
       "    }\n",
       "\n",
       "    .dataframe tbody tr th {\n",
       "        vertical-align: top;\n",
       "    }\n",
       "</style>\n",
       "<table border=\"1\" class=\"dataframe\">\n",
       "  <thead>\n",
       "    <tr style=\"text-align: right;\">\n",
       "      <th></th>\n",
       "      <th>user_id</th>\n",
       "      <th>date</th>\n",
       "      <th>country</th>\n",
       "      <th>money_spent</th>\n",
       "      <th>is_referral</th>\n",
       "      <th>device_id</th>\n",
       "    </tr>\n",
       "  </thead>\n",
       "  <tbody>\n",
       "    <tr>\n",
       "      <th>0</th>\n",
       "      <td>2</td>\n",
       "      <td>2015-10-03</td>\n",
       "      <td>FR</td>\n",
       "      <td>65</td>\n",
       "      <td>0</td>\n",
       "      <td>EVDCJTZMVMJDG</td>\n",
       "    </tr>\n",
       "    <tr>\n",
       "      <th>1</th>\n",
       "      <td>3</td>\n",
       "      <td>2015-10-03</td>\n",
       "      <td>CA</td>\n",
       "      <td>54</td>\n",
       "      <td>0</td>\n",
       "      <td>WUBZFTVKXGQQX</td>\n",
       "    </tr>\n",
       "    <tr>\n",
       "      <th>2</th>\n",
       "      <td>6</td>\n",
       "      <td>2015-10-03</td>\n",
       "      <td>FR</td>\n",
       "      <td>35</td>\n",
       "      <td>0</td>\n",
       "      <td>CBAPCJRTFNUJG</td>\n",
       "    </tr>\n",
       "    <tr>\n",
       "      <th>3</th>\n",
       "      <td>7</td>\n",
       "      <td>2015-10-03</td>\n",
       "      <td>UK</td>\n",
       "      <td>73</td>\n",
       "      <td>0</td>\n",
       "      <td>PRGXJZAJKMXRH</td>\n",
       "    </tr>\n",
       "    <tr>\n",
       "      <th>4</th>\n",
       "      <td>7</td>\n",
       "      <td>2015-10-03</td>\n",
       "      <td>MX</td>\n",
       "      <td>35</td>\n",
       "      <td>0</td>\n",
       "      <td>PRGXJZAJKMXRH</td>\n",
       "    </tr>\n",
       "  </tbody>\n",
       "</table>\n",
       "</div>"
      ],
      "text/plain": [
       "   user_id        date country  money_spent  is_referral      device_id\n",
       "0        2  2015-10-03      FR           65            0  EVDCJTZMVMJDG\n",
       "1        3  2015-10-03      CA           54            0  WUBZFTVKXGQQX\n",
       "2        6  2015-10-03      FR           35            0  CBAPCJRTFNUJG\n",
       "3        7  2015-10-03      UK           73            0  PRGXJZAJKMXRH\n",
       "4        7  2015-10-03      MX           35            0  PRGXJZAJKMXRH"
      ]
     },
     "execution_count": 2,
     "metadata": {},
     "output_type": "execute_result"
    }
   ],
   "source": [
    "df=pd.read_csv('referral.csv', index_col=False)\n",
    "#df = pd.DataFrame.from_csv('referral.csv')\n",
    "df.head()\n"
   ]
  },
  {
   "cell_type": "code",
   "execution_count": 3,
   "metadata": {
    "collapsed": false
   },
   "outputs": [
    {
     "data": {
      "text/plain": [
       "(18809,)"
      ]
     },
     "execution_count": 3,
     "metadata": {},
     "output_type": "execute_result"
    }
   ],
   "source": [
    "df.user_id.unique().shape"
   ]
  },
  {
   "cell_type": "code",
   "execution_count": 4,
   "metadata": {
    "collapsed": true
   },
   "outputs": [],
   "source": [
    "df=df.sort_values('date')"
   ]
  },
  {
   "cell_type": "code",
   "execution_count": 5,
   "metadata": {
    "collapsed": false
   },
   "outputs": [
    {
     "data": {
      "text/html": [
       "<div>\n",
       "<style>\n",
       "    .dataframe thead tr:only-child th {\n",
       "        text-align: right;\n",
       "    }\n",
       "\n",
       "    .dataframe thead th {\n",
       "        text-align: left;\n",
       "    }\n",
       "\n",
       "    .dataframe tbody tr th {\n",
       "        vertical-align: top;\n",
       "    }\n",
       "</style>\n",
       "<table border=\"1\" class=\"dataframe\">\n",
       "  <thead>\n",
       "    <tr style=\"text-align: right;\">\n",
       "      <th></th>\n",
       "      <th>user_id</th>\n",
       "      <th>date</th>\n",
       "      <th>country</th>\n",
       "      <th>money_spent</th>\n",
       "      <th>is_referral</th>\n",
       "      <th>device_id</th>\n",
       "    </tr>\n",
       "  </thead>\n",
       "  <tbody>\n",
       "    <tr>\n",
       "      <th>96551</th>\n",
       "      <td>6787</td>\n",
       "      <td>2015-11-27</td>\n",
       "      <td>FR</td>\n",
       "      <td>61</td>\n",
       "      <td>1</td>\n",
       "      <td>ZQBWTBOLFKYIO</td>\n",
       "    </tr>\n",
       "    <tr>\n",
       "      <th>96550</th>\n",
       "      <td>6783</td>\n",
       "      <td>2015-11-27</td>\n",
       "      <td>IT</td>\n",
       "      <td>54</td>\n",
       "      <td>0</td>\n",
       "      <td>ORRFYYNXIUMMM</td>\n",
       "    </tr>\n",
       "    <tr>\n",
       "      <th>96549</th>\n",
       "      <td>6752</td>\n",
       "      <td>2015-11-27</td>\n",
       "      <td>ES</td>\n",
       "      <td>39</td>\n",
       "      <td>0</td>\n",
       "      <td>NNQYNPVSHSBAI</td>\n",
       "    </tr>\n",
       "    <tr>\n",
       "      <th>96565</th>\n",
       "      <td>7052</td>\n",
       "      <td>2015-11-27</td>\n",
       "      <td>CA</td>\n",
       "      <td>30</td>\n",
       "      <td>1</td>\n",
       "      <td>ONEDBUCSPAPKX</td>\n",
       "    </tr>\n",
       "    <tr>\n",
       "      <th>97340</th>\n",
       "      <td>19984</td>\n",
       "      <td>2015-11-27</td>\n",
       "      <td>FR</td>\n",
       "      <td>15</td>\n",
       "      <td>1</td>\n",
       "      <td>VFXAMMQDFORSS</td>\n",
       "    </tr>\n",
       "  </tbody>\n",
       "</table>\n",
       "</div>"
      ],
      "text/plain": [
       "       user_id        date country  money_spent  is_referral      device_id\n",
       "96551     6787  2015-11-27      FR           61            1  ZQBWTBOLFKYIO\n",
       "96550     6783  2015-11-27      IT           54            0  ORRFYYNXIUMMM\n",
       "96549     6752  2015-11-27      ES           39            0  NNQYNPVSHSBAI\n",
       "96565     7052  2015-11-27      CA           30            1  ONEDBUCSPAPKX\n",
       "97340    19984  2015-11-27      FR           15            1  VFXAMMQDFORSS"
      ]
     },
     "execution_count": 5,
     "metadata": {},
     "output_type": "execute_result"
    }
   ],
   "source": [
    "df.tail()"
   ]
  },
  {
   "cell_type": "code",
   "execution_count": 6,
   "metadata": {
    "collapsed": false
   },
   "outputs": [
    {
     "data": {
      "text/plain": [
       "(17887,)"
      ]
     },
     "execution_count": 6,
     "metadata": {},
     "output_type": "execute_result"
    }
   ],
   "source": [
    "df.device_id.unique().shape"
   ]
  },
  {
   "cell_type": "code",
   "execution_count": 7,
   "metadata": {
    "collapsed": false
   },
   "outputs": [
    {
     "name": "stdout",
     "output_type": "stream",
     "text": [
      "<class 'pandas.core.frame.DataFrame'>\n",
      "Int64Index: 97341 entries, 0 to 97340\n",
      "Data columns (total 6 columns):\n",
      "user_id        97341 non-null int64\n",
      "date           97341 non-null object\n",
      "country        97341 non-null object\n",
      "money_spent    97341 non-null int64\n",
      "is_referral    97341 non-null int64\n",
      "device_id      97341 non-null object\n",
      "dtypes: int64(3), object(3)\n",
      "memory usage: 5.2+ MB\n"
     ]
    }
   ],
   "source": [
    "df.info()"
   ]
  },
  {
   "cell_type": "code",
   "execution_count": 8,
   "metadata": {
    "collapsed": false
   },
   "outputs": [
    {
     "data": {
      "text/html": [
       "<div>\n",
       "<style>\n",
       "    .dataframe thead tr:only-child th {\n",
       "        text-align: right;\n",
       "    }\n",
       "\n",
       "    .dataframe thead th {\n",
       "        text-align: left;\n",
       "    }\n",
       "\n",
       "    .dataframe tbody tr th {\n",
       "        vertical-align: top;\n",
       "    }\n",
       "</style>\n",
       "<table border=\"1\" class=\"dataframe\">\n",
       "  <thead>\n",
       "    <tr style=\"text-align: right;\">\n",
       "      <th></th>\n",
       "      <th>user_id</th>\n",
       "      <th>money_spent</th>\n",
       "      <th>is_referral</th>\n",
       "    </tr>\n",
       "  </thead>\n",
       "  <tbody>\n",
       "    <tr>\n",
       "      <th>count</th>\n",
       "      <td>97341.000000</td>\n",
       "      <td>97341.000000</td>\n",
       "      <td>97341.000000</td>\n",
       "    </tr>\n",
       "    <tr>\n",
       "      <th>mean</th>\n",
       "      <td>6354.801029</td>\n",
       "      <td>44.692360</td>\n",
       "      <td>0.287823</td>\n",
       "    </tr>\n",
       "    <tr>\n",
       "      <th>std</th>\n",
       "      <td>5682.991186</td>\n",
       "      <td>22.791839</td>\n",
       "      <td>0.452751</td>\n",
       "    </tr>\n",
       "    <tr>\n",
       "      <th>min</th>\n",
       "      <td>1.000000</td>\n",
       "      <td>10.000000</td>\n",
       "      <td>0.000000</td>\n",
       "    </tr>\n",
       "    <tr>\n",
       "      <th>25%</th>\n",
       "      <td>2020.000000</td>\n",
       "      <td>27.000000</td>\n",
       "      <td>0.000000</td>\n",
       "    </tr>\n",
       "    <tr>\n",
       "      <th>50%</th>\n",
       "      <td>4053.000000</td>\n",
       "      <td>42.000000</td>\n",
       "      <td>0.000000</td>\n",
       "    </tr>\n",
       "    <tr>\n",
       "      <th>75%</th>\n",
       "      <td>10286.000000</td>\n",
       "      <td>59.000000</td>\n",
       "      <td>1.000000</td>\n",
       "    </tr>\n",
       "    <tr>\n",
       "      <th>max</th>\n",
       "      <td>20000.000000</td>\n",
       "      <td>220.000000</td>\n",
       "      <td>1.000000</td>\n",
       "    </tr>\n",
       "  </tbody>\n",
       "</table>\n",
       "</div>"
      ],
      "text/plain": [
       "            user_id   money_spent   is_referral\n",
       "count  97341.000000  97341.000000  97341.000000\n",
       "mean    6354.801029     44.692360      0.287823\n",
       "std     5682.991186     22.791839      0.452751\n",
       "min        1.000000     10.000000      0.000000\n",
       "25%     2020.000000     27.000000      0.000000\n",
       "50%     4053.000000     42.000000      0.000000\n",
       "75%    10286.000000     59.000000      1.000000\n",
       "max    20000.000000    220.000000      1.000000"
      ]
     },
     "execution_count": 8,
     "metadata": {},
     "output_type": "execute_result"
    }
   ],
   "source": [
    "df.describe()"
   ]
  },
  {
   "cell_type": "code",
   "execution_count": 9,
   "metadata": {
    "collapsed": false
   },
   "outputs": [
    {
     "data": {
      "image/png": "[encoded data removed]",
      "text/plain": [
       "<matplotlib.figure.Figure at 0x1048afb10>"
      ]
     },
     "metadata": {},
     "output_type": "display_data"
    }
   ],
   "source": [
    "sns.set(style=\"darkgrid\")\n",
    "ax = sns.countplot(x=\"date\", data=df)\n",
    "plt.show()"
   ]
  },
  {
   "cell_type": "code",
   "execution_count": 10,
   "metadata": {
    "collapsed": false
   },
   "outputs": [],
   "source": [
    "#df_pre = df[(df['date'] < '2015-10-31')]\n",
    "#df_post = df[(df['date'] >= '2015-10-31')]\n",
    "\n",
    "df_pre = df.loc[df.date < '2015-10-30']\n",
    "df_post = df.loc[df.date >= '2015-10-30']"
   ]
  },
  {
   "cell_type": "code",
   "execution_count": 11,
   "metadata": {
    "collapsed": false
   },
   "outputs": [],
   "source": [
    "df['timestamp'] = pd.to_datetime(df.date)"
   ]
  },
  {
   "cell_type": "code",
   "execution_count": 12,
   "metadata": {
    "collapsed": false
   },
   "outputs": [
    {
     "data": {
      "text/html": [
       "<div>\n",
       "<style>\n",
       "    .dataframe thead tr:only-child th {\n",
       "        text-align: right;\n",
       "    }\n",
       "\n",
       "    .dataframe thead th {\n",
       "        text-align: left;\n",
       "    }\n",
       "\n",
       "    .dataframe tbody tr th {\n",
       "        vertical-align: top;\n",
       "    }\n",
       "</style>\n",
       "<table border=\"1\" class=\"dataframe\">\n",
       "  <thead>\n",
       "    <tr style=\"text-align: right;\">\n",
       "      <th></th>\n",
       "      <th>is_referral</th>\n",
       "      <th>timestamp</th>\n",
       "      <th>weekday</th>\n",
       "      <th>money_spent</th>\n",
       "    </tr>\n",
       "  </thead>\n",
       "  <tbody>\n",
       "    <tr>\n",
       "      <th>0</th>\n",
       "      <td>0</td>\n",
       "      <td>2015-10-03</td>\n",
       "      <td>5</td>\n",
       "      <td>128475</td>\n",
       "    </tr>\n",
       "    <tr>\n",
       "      <th>1</th>\n",
       "      <td>0</td>\n",
       "      <td>2015-10-04</td>\n",
       "      <td>6</td>\n",
       "      <td>130772</td>\n",
       "    </tr>\n",
       "    <tr>\n",
       "      <th>2</th>\n",
       "      <td>0</td>\n",
       "      <td>2015-10-05</td>\n",
       "      <td>0</td>\n",
       "      <td>46946</td>\n",
       "    </tr>\n",
       "    <tr>\n",
       "      <th>3</th>\n",
       "      <td>0</td>\n",
       "      <td>2015-10-06</td>\n",
       "      <td>1</td>\n",
       "      <td>49711</td>\n",
       "    </tr>\n",
       "    <tr>\n",
       "      <th>4</th>\n",
       "      <td>0</td>\n",
       "      <td>2015-10-07</td>\n",
       "      <td>2</td>\n",
       "      <td>45242</td>\n",
       "    </tr>\n",
       "  </tbody>\n",
       "</table>\n",
       "</div>"
      ],
      "text/plain": [
       "   is_referral  timestamp  weekday  money_spent\n",
       "0            0 2015-10-03        5       128475\n",
       "1            0 2015-10-04        6       130772\n",
       "2            0 2015-10-05        0        46946\n",
       "3            0 2015-10-06        1        49711\n",
       "4            0 2015-10-07        2        45242"
      ]
     },
     "execution_count": 12,
     "metadata": {},
     "output_type": "execute_result"
    }
   ],
   "source": [
    "df[\"weekday\"]=[t.weekday() for t in df[\"timestamp\"]]\n",
    "daily_total = df.groupby([\"is_referral\",\"timestamp\",\"weekday\"]).agg({\"money_spent\":\"sum\"}).reset_index()\n",
    "daily_total.head()"
   ]
  },
  {
   "cell_type": "code",
   "execution_count": 13,
   "metadata": {
    "collapsed": false
   },
   "outputs": [
    {
     "data": {
      "image/png": "[encoded data removed]",
      "text/plain": [
       "<matplotlib.figure.Figure at 0x1048afb50>"
      ]
     },
     "metadata": {},
     "output_type": "display_data"
    }
   ],
   "source": [
    "sns.set(style=\"darkgrid\")\n",
    "ax = sns.countplot(x=\"is_referral\", data=df_pre)\n",
    "plt.show()"
   ]
  },
  {
   "cell_type": "code",
   "execution_count": 14,
   "metadata": {
    "collapsed": false
   },
   "outputs": [
    {
     "data": {
      "image/png": "[encoded data removed]",
      "text/plain": [
       "<matplotlib.figure.Figure at 0x115799390>"
      ]
     },
     "metadata": {},
     "output_type": "display_data"
    }
   ],
   "source": [
    "sns.set(style=\"darkgrid\")\n",
    "ax = sns.countplot(x=\"is_referral\", data=df_post)\n",
    "plt.show()\n"
   ]
  },
  {
   "cell_type": "code",
   "execution_count": 16,
   "metadata": {
    "collapsed": false
   },
   "outputs": [
    {
     "data": {
      "image/png": "[encoded data removed]",
      "text/plain": [
       "<matplotlib.figure.Figure at 0x1157c7990>"
      ]
     },
     "metadata": {},
     "output_type": "display_data"
    }
   ],
   "source": [
    "#get number of purcahses per user\n",
    "users=pd.pivot_table(df,index=['user_id'],aggfunc={'user_id' : 'count'})\n",
    "\n",
    "users.sort_values('user_id',ascending=False)\n",
    "\n",
    "plt.hist(users['user_id'],bins=100)\n",
    "plt.ylabel('frequency of purchase quantity')\n",
    "plt.xlabel('number of purchases')\n",
    "plt.show()\n",
    "#here we see that a lot of users made only a few purchases 2), but a good number also made like 12"
   ]
  },
  {
   "cell_type": "code",
   "execution_count": 17,
   "metadata": {
    "collapsed": false
   },
   "outputs": [
    {
     "data": {
      "image/png": "[encoded data removed]",
      "text/plain": [
       "<matplotlib.figure.Figure at 0x100535250>"
      ]
     },
     "metadata": {},
     "output_type": "display_data"
    }
   ],
   "source": [
    "sns.set(style=\"darkgrid\")\n",
    "ax = sns.countplot(x='user_id', data=users)\n",
    "plt.show()"
   ]
  },
  {
   "cell_type": "code",
   "execution_count": 18,
   "metadata": {
    "collapsed": false
   },
   "outputs": [
    {
     "name": "stdout",
     "output_type": "stream",
     "text": [
      "(5000,)\n",
      "(18480,)\n"
     ]
    }
   ],
   "source": [
    "print df_pre['user_id'].unique().shape\n",
    "print df_post['user_id'].unique().shape\n"
   ]
  },
  {
   "cell_type": "code",
   "execution_count": 19,
   "metadata": {
    "collapsed": true
   },
   "outputs": [],
   "source": [
    "pre_user_num=df_pre.user_id.unique().shape"
   ]
  },
  {
   "cell_type": "code",
   "execution_count": 20,
   "metadata": {
    "collapsed": false
   },
   "outputs": [
    {
     "name": "stdout",
     "output_type": "stream",
     "text": [
      "            user_id   money_spent  is_referral\n",
      "count  46153.000000  46153.000000      46153.0\n",
      "mean    2491.737417     42.364830          0.0\n",
      "std     1439.709156     20.682966          0.0\n",
      "min        1.000000     10.000000          0.0\n",
      "25%     1250.000000     26.000000          0.0\n",
      "50%     2486.000000     40.000000          0.0\n",
      "75%     3742.000000     55.000000          0.0\n",
      "max     5000.000000    177.000000          0.0\n",
      "---------------------------------------\n",
      "            user_id   money_spent   is_referral\n",
      "count  51188.000000  51188.000000  51188.000000\n",
      "mean    9837.882512     46.790947      0.547335\n",
      "std     5827.519435     24.348589      0.497759\n",
      "min        1.000000     10.000000      0.000000\n",
      "25%     4636.000000     28.000000      0.000000\n",
      "50%     9782.500000     44.000000      1.000000\n",
      "75%    14921.000000     62.000000      1.000000\n",
      "max    20000.000000    220.000000      1.000000\n"
     ]
    }
   ],
   "source": [
    "print(df_pre.describe())\n",
    "print '---------------------------------------'\n",
    "print(df_post.describe())\n"
   ]
  },
  {
   "cell_type": "code",
   "execution_count": 21,
   "metadata": {
    "collapsed": false
   },
   "outputs": [],
   "source": [
    "revenue_pre = df_pre.agg({'money_spent':'sum' })\n",
    "revenue_post = df_post.agg({'money_spent':'sum' })"
   ]
  },
  {
   "cell_type": "code",
   "execution_count": 22,
   "metadata": {
    "collapsed": false
   },
   "outputs": [
    {
     "data": {
      "text/plain": [
       "is_referral\n",
       "0    11622\n",
       "1    12715\n",
       "Name: user_id, dtype: int64"
      ]
     },
     "execution_count": 22,
     "metadata": {},
     "output_type": "execute_result"
    }
   ],
   "source": [
    "df_post.groupby('is_referral').user_id.nunique()"
   ]
  },
  {
   "cell_type": "code",
   "execution_count": 23,
   "metadata": {
    "collapsed": false
   },
   "outputs": [
    {
     "data": {
      "text/plain": [
       "18480"
      ]
     },
     "execution_count": 23,
     "metadata": {},
     "output_type": "execute_result"
    }
   ],
   "source": [
    "df_post.user_id.nunique()"
   ]
  },
  {
   "cell_type": "code",
   "execution_count": 24,
   "metadata": {
    "collapsed": false
   },
   "outputs": [
    {
     "data": {
      "text/plain": [
       "is_referral\n",
       "0    [3333, 3345, 3352, 3340, 3338, 3332, 3310, 332...\n",
       "1    [13148, 13150, 13161, 13134, 13177, 13143, 132...\n",
       "Name: user_id, dtype: object"
      ]
     },
     "execution_count": 24,
     "metadata": {},
     "output_type": "execute_result"
    }
   ],
   "source": [
    "df_post.groupby('is_referral').user_id.unique()"
   ]
  },
  {
   "cell_type": "code",
   "execution_count": 25,
   "metadata": {
    "collapsed": true
   },
   "outputs": [],
   "source": [
    "user_refered=df_post.groupby('is_referral').user_id.nunique()[1]"
   ]
  },
  {
   "cell_type": "code",
   "execution_count": 26,
   "metadata": {
    "collapsed": false
   },
   "outputs": [
    {
     "data": {
      "text/plain": [
       "money_spent    312721.0\n",
       "dtype: float64"
      ]
     },
     "execution_count": 26,
     "metadata": {},
     "output_type": "execute_result"
    }
   ],
   "source": [
    "(revenue_post-(float(user_refered)*10))-revenue_pre\n"
   ]
  },
  {
   "cell_type": "code",
   "execution_count": 27,
   "metadata": {
    "collapsed": false
   },
   "outputs": [
    {
     "name": "stdout",
     "output_type": "stream",
     "text": [
      "            user_id   money_spent   is_referral\n",
      "count  51188.000000  51188.000000  51188.000000\n",
      "mean    9837.882512     46.790947      0.547335\n",
      "std     5827.519435     24.348589      0.497759\n",
      "min        1.000000     10.000000      0.000000\n",
      "25%     4636.000000     28.000000      0.000000\n",
      "50%     9782.500000     44.000000      1.000000\n",
      "75%    14921.000000     62.000000      1.000000\n",
      "max    20000.000000    220.000000      1.000000\n"
     ]
    }
   ],
   "source": [
    "print(df_post.describe())"
   ]
  },
  {
   "cell_type": "code",
   "execution_count": 28,
   "metadata": {
    "collapsed": false
   },
   "outputs": [
    {
     "data": {
      "text/html": [
       "<div>\n",
       "<style>\n",
       "    .dataframe thead tr:only-child th {\n",
       "        text-align: right;\n",
       "    }\n",
       "\n",
       "    .dataframe thead th {\n",
       "        text-align: left;\n",
       "    }\n",
       "\n",
       "    .dataframe tbody tr th {\n",
       "        vertical-align: top;\n",
       "    }\n",
       "</style>\n",
       "<table border=\"1\" class=\"dataframe\">\n",
       "  <thead>\n",
       "    <tr style=\"text-align: right;\">\n",
       "      <th></th>\n",
       "      <th>user_id</th>\n",
       "      <th>date</th>\n",
       "      <th>country</th>\n",
       "      <th>money_spent</th>\n",
       "      <th>is_referral</th>\n",
       "      <th>device_id</th>\n",
       "      <th>timestamp</th>\n",
       "      <th>weekday</th>\n",
       "    </tr>\n",
       "  </thead>\n",
       "  <tbody>\n",
       "    <tr>\n",
       "      <th>0</th>\n",
       "      <td>2</td>\n",
       "      <td>2015-10-03</td>\n",
       "      <td>FR</td>\n",
       "      <td>65</td>\n",
       "      <td>0</td>\n",
       "      <td>EVDCJTZMVMJDG</td>\n",
       "      <td>2015-10-03</td>\n",
       "      <td>5</td>\n",
       "    </tr>\n",
       "    <tr>\n",
       "      <th>2026</th>\n",
       "      <td>3359</td>\n",
       "      <td>2015-10-03</td>\n",
       "      <td>FR</td>\n",
       "      <td>52</td>\n",
       "      <td>0</td>\n",
       "      <td>SLTOQRGXCRCDR</td>\n",
       "      <td>2015-10-03</td>\n",
       "      <td>5</td>\n",
       "    </tr>\n",
       "    <tr>\n",
       "      <th>2027</th>\n",
       "      <td>3361</td>\n",
       "      <td>2015-10-03</td>\n",
       "      <td>IT</td>\n",
       "      <td>15</td>\n",
       "      <td>0</td>\n",
       "      <td>JCVODKLEUCOHG</td>\n",
       "      <td>2015-10-03</td>\n",
       "      <td>5</td>\n",
       "    </tr>\n",
       "    <tr>\n",
       "      <th>2028</th>\n",
       "      <td>3363</td>\n",
       "      <td>2015-10-03</td>\n",
       "      <td>MX</td>\n",
       "      <td>22</td>\n",
       "      <td>0</td>\n",
       "      <td>TYNDFWAGPLAWW</td>\n",
       "      <td>2015-10-03</td>\n",
       "      <td>5</td>\n",
       "    </tr>\n",
       "    <tr>\n",
       "      <th>2029</th>\n",
       "      <td>3365</td>\n",
       "      <td>2015-10-03</td>\n",
       "      <td>DE</td>\n",
       "      <td>28</td>\n",
       "      <td>0</td>\n",
       "      <td>KFMTKUTQJIKNQ</td>\n",
       "      <td>2015-10-03</td>\n",
       "      <td>5</td>\n",
       "    </tr>\n",
       "    <tr>\n",
       "      <th>2030</th>\n",
       "      <td>3367</td>\n",
       "      <td>2015-10-03</td>\n",
       "      <td>DE</td>\n",
       "      <td>78</td>\n",
       "      <td>0</td>\n",
       "      <td>IYWSGFTCZPPXK</td>\n",
       "      <td>2015-10-03</td>\n",
       "      <td>5</td>\n",
       "    </tr>\n",
       "    <tr>\n",
       "      <th>2031</th>\n",
       "      <td>3368</td>\n",
       "      <td>2015-10-03</td>\n",
       "      <td>DE</td>\n",
       "      <td>71</td>\n",
       "      <td>0</td>\n",
       "      <td>AFJJUPQKHUKMR</td>\n",
       "      <td>2015-10-03</td>\n",
       "      <td>5</td>\n",
       "    </tr>\n",
       "    <tr>\n",
       "      <th>2032</th>\n",
       "      <td>3372</td>\n",
       "      <td>2015-10-03</td>\n",
       "      <td>MX</td>\n",
       "      <td>33</td>\n",
       "      <td>0</td>\n",
       "      <td>VWFNKWVNMXCPB</td>\n",
       "      <td>2015-10-03</td>\n",
       "      <td>5</td>\n",
       "    </tr>\n",
       "    <tr>\n",
       "      <th>2033</th>\n",
       "      <td>3373</td>\n",
       "      <td>2015-10-03</td>\n",
       "      <td>US</td>\n",
       "      <td>19</td>\n",
       "      <td>0</td>\n",
       "      <td>UYTSZDACUXQVW</td>\n",
       "      <td>2015-10-03</td>\n",
       "      <td>5</td>\n",
       "    </tr>\n",
       "    <tr>\n",
       "      <th>2034</th>\n",
       "      <td>3374</td>\n",
       "      <td>2015-10-03</td>\n",
       "      <td>US</td>\n",
       "      <td>30</td>\n",
       "      <td>0</td>\n",
       "      <td>LKEZQJDZFVLDP</td>\n",
       "      <td>2015-10-03</td>\n",
       "      <td>5</td>\n",
       "    </tr>\n",
       "    <tr>\n",
       "      <th>2035</th>\n",
       "      <td>3375</td>\n",
       "      <td>2015-10-03</td>\n",
       "      <td>IT</td>\n",
       "      <td>50</td>\n",
       "      <td>0</td>\n",
       "      <td>ZNBJDBYJWENYO</td>\n",
       "      <td>2015-10-03</td>\n",
       "      <td>5</td>\n",
       "    </tr>\n",
       "    <tr>\n",
       "      <th>2036</th>\n",
       "      <td>3375</td>\n",
       "      <td>2015-10-03</td>\n",
       "      <td>US</td>\n",
       "      <td>48</td>\n",
       "      <td>0</td>\n",
       "      <td>ZNBJDBYJWENYO</td>\n",
       "      <td>2015-10-03</td>\n",
       "      <td>5</td>\n",
       "    </tr>\n",
       "    <tr>\n",
       "      <th>2037</th>\n",
       "      <td>3375</td>\n",
       "      <td>2015-10-03</td>\n",
       "      <td>DE</td>\n",
       "      <td>47</td>\n",
       "      <td>0</td>\n",
       "      <td>QRAOEZEZDNXKT</td>\n",
       "      <td>2015-10-03</td>\n",
       "      <td>5</td>\n",
       "    </tr>\n",
       "    <tr>\n",
       "      <th>2038</th>\n",
       "      <td>3376</td>\n",
       "      <td>2015-10-03</td>\n",
       "      <td>FR</td>\n",
       "      <td>71</td>\n",
       "      <td>0</td>\n",
       "      <td>WBRXBDGCDFPVU</td>\n",
       "      <td>2015-10-03</td>\n",
       "      <td>5</td>\n",
       "    </tr>\n",
       "    <tr>\n",
       "      <th>2039</th>\n",
       "      <td>3376</td>\n",
       "      <td>2015-10-03</td>\n",
       "      <td>UK</td>\n",
       "      <td>92</td>\n",
       "      <td>0</td>\n",
       "      <td>WBRXBDGCDFPVU</td>\n",
       "      <td>2015-10-03</td>\n",
       "      <td>5</td>\n",
       "    </tr>\n",
       "    <tr>\n",
       "      <th>2040</th>\n",
       "      <td>3378</td>\n",
       "      <td>2015-10-03</td>\n",
       "      <td>IT</td>\n",
       "      <td>32</td>\n",
       "      <td>0</td>\n",
       "      <td>UTKTORKZRHSLA</td>\n",
       "      <td>2015-10-03</td>\n",
       "      <td>5</td>\n",
       "    </tr>\n",
       "    <tr>\n",
       "      <th>2041</th>\n",
       "      <td>3379</td>\n",
       "      <td>2015-10-03</td>\n",
       "      <td>US</td>\n",
       "      <td>55</td>\n",
       "      <td>0</td>\n",
       "      <td>FEAFUTJOOHMDH</td>\n",
       "      <td>2015-10-03</td>\n",
       "      <td>5</td>\n",
       "    </tr>\n",
       "    <tr>\n",
       "      <th>2042</th>\n",
       "      <td>3380</td>\n",
       "      <td>2015-10-03</td>\n",
       "      <td>FR</td>\n",
       "      <td>69</td>\n",
       "      <td>0</td>\n",
       "      <td>BUFEOMEFVDMBH</td>\n",
       "      <td>2015-10-03</td>\n",
       "      <td>5</td>\n",
       "    </tr>\n",
       "    <tr>\n",
       "      <th>2043</th>\n",
       "      <td>3380</td>\n",
       "      <td>2015-10-03</td>\n",
       "      <td>UK</td>\n",
       "      <td>41</td>\n",
       "      <td>0</td>\n",
       "      <td>BUFEOMEFVDMBH</td>\n",
       "      <td>2015-10-03</td>\n",
       "      <td>5</td>\n",
       "    </tr>\n",
       "    <tr>\n",
       "      <th>2044</th>\n",
       "      <td>3380</td>\n",
       "      <td>2015-10-03</td>\n",
       "      <td>US</td>\n",
       "      <td>20</td>\n",
       "      <td>0</td>\n",
       "      <td>BUFEOMEFVDMBH</td>\n",
       "      <td>2015-10-03</td>\n",
       "      <td>5</td>\n",
       "    </tr>\n",
       "    <tr>\n",
       "      <th>2025</th>\n",
       "      <td>3357</td>\n",
       "      <td>2015-10-03</td>\n",
       "      <td>IT</td>\n",
       "      <td>47</td>\n",
       "      <td>0</td>\n",
       "      <td>NUWKSQSIWNIAQ</td>\n",
       "      <td>2015-10-03</td>\n",
       "      <td>5</td>\n",
       "    </tr>\n",
       "    <tr>\n",
       "      <th>2024</th>\n",
       "      <td>3357</td>\n",
       "      <td>2015-10-03</td>\n",
       "      <td>FR</td>\n",
       "      <td>22</td>\n",
       "      <td>0</td>\n",
       "      <td>NUWKSQSIWNIAQ</td>\n",
       "      <td>2015-10-03</td>\n",
       "      <td>5</td>\n",
       "    </tr>\n",
       "    <tr>\n",
       "      <th>2023</th>\n",
       "      <td>3356</td>\n",
       "      <td>2015-10-03</td>\n",
       "      <td>UK</td>\n",
       "      <td>16</td>\n",
       "      <td>0</td>\n",
       "      <td>VXNZXFEHUPGXQ</td>\n",
       "      <td>2015-10-03</td>\n",
       "      <td>5</td>\n",
       "    </tr>\n",
       "    <tr>\n",
       "      <th>2022</th>\n",
       "      <td>3356</td>\n",
       "      <td>2015-10-03</td>\n",
       "      <td>FR</td>\n",
       "      <td>41</td>\n",
       "      <td>0</td>\n",
       "      <td>VXNZXFEHUPGXQ</td>\n",
       "      <td>2015-10-03</td>\n",
       "      <td>5</td>\n",
       "    </tr>\n",
       "    <tr>\n",
       "      <th>2002</th>\n",
       "      <td>3328</td>\n",
       "      <td>2015-10-03</td>\n",
       "      <td>MX</td>\n",
       "      <td>14</td>\n",
       "      <td>0</td>\n",
       "      <td>FJLXQWLAUCOIA</td>\n",
       "      <td>2015-10-03</td>\n",
       "      <td>5</td>\n",
       "    </tr>\n",
       "    <tr>\n",
       "      <th>2003</th>\n",
       "      <td>3329</td>\n",
       "      <td>2015-10-03</td>\n",
       "      <td>DE</td>\n",
       "      <td>14</td>\n",
       "      <td>0</td>\n",
       "      <td>YDDRZXFDMCMBI</td>\n",
       "      <td>2015-10-03</td>\n",
       "      <td>5</td>\n",
       "    </tr>\n",
       "    <tr>\n",
       "      <th>2004</th>\n",
       "      <td>3331</td>\n",
       "      <td>2015-10-03</td>\n",
       "      <td>UK</td>\n",
       "      <td>64</td>\n",
       "      <td>0</td>\n",
       "      <td>ENURJKFAUPRQP</td>\n",
       "      <td>2015-10-03</td>\n",
       "      <td>5</td>\n",
       "    </tr>\n",
       "    <tr>\n",
       "      <th>2005</th>\n",
       "      <td>3332</td>\n",
       "      <td>2015-10-03</td>\n",
       "      <td>US</td>\n",
       "      <td>46</td>\n",
       "      <td>0</td>\n",
       "      <td>SQCGKFXGEDDZI</td>\n",
       "      <td>2015-10-03</td>\n",
       "      <td>5</td>\n",
       "    </tr>\n",
       "    <tr>\n",
       "      <th>2006</th>\n",
       "      <td>3332</td>\n",
       "      <td>2015-10-03</td>\n",
       "      <td>CH</td>\n",
       "      <td>44</td>\n",
       "      <td>0</td>\n",
       "      <td>SQCGKFXGEDDZI</td>\n",
       "      <td>2015-10-03</td>\n",
       "      <td>5</td>\n",
       "    </tr>\n",
       "    <tr>\n",
       "      <th>2007</th>\n",
       "      <td>3332</td>\n",
       "      <td>2015-10-03</td>\n",
       "      <td>CA</td>\n",
       "      <td>12</td>\n",
       "      <td>0</td>\n",
       "      <td>SQCGKFXGEDDZI</td>\n",
       "      <td>2015-10-03</td>\n",
       "      <td>5</td>\n",
       "    </tr>\n",
       "    <tr>\n",
       "      <th>...</th>\n",
       "      <td>...</td>\n",
       "      <td>...</td>\n",
       "      <td>...</td>\n",
       "      <td>...</td>\n",
       "      <td>...</td>\n",
       "      <td>...</td>\n",
       "      <td>...</td>\n",
       "      <td>...</td>\n",
       "    </tr>\n",
       "    <tr>\n",
       "      <th>96539</th>\n",
       "      <td>6601</td>\n",
       "      <td>2015-11-27</td>\n",
       "      <td>UK</td>\n",
       "      <td>32</td>\n",
       "      <td>1</td>\n",
       "      <td>STMFNFQHKHFSJ</td>\n",
       "      <td>2015-11-27</td>\n",
       "      <td>4</td>\n",
       "    </tr>\n",
       "    <tr>\n",
       "      <th>96545</th>\n",
       "      <td>6714</td>\n",
       "      <td>2015-11-27</td>\n",
       "      <td>ES</td>\n",
       "      <td>57</td>\n",
       "      <td>1</td>\n",
       "      <td>KJHRWPUGSDLHD</td>\n",
       "      <td>2015-11-27</td>\n",
       "      <td>4</td>\n",
       "    </tr>\n",
       "    <tr>\n",
       "      <th>96538</th>\n",
       "      <td>6591</td>\n",
       "      <td>2015-11-27</td>\n",
       "      <td>CH</td>\n",
       "      <td>138</td>\n",
       "      <td>0</td>\n",
       "      <td>YQXGYLSOGCUJF</td>\n",
       "      <td>2015-11-27</td>\n",
       "      <td>4</td>\n",
       "    </tr>\n",
       "    <tr>\n",
       "      <th>96536</th>\n",
       "      <td>6546</td>\n",
       "      <td>2015-11-27</td>\n",
       "      <td>FR</td>\n",
       "      <td>39</td>\n",
       "      <td>1</td>\n",
       "      <td>IZCANUOIQWKSJ</td>\n",
       "      <td>2015-11-27</td>\n",
       "      <td>4</td>\n",
       "    </tr>\n",
       "    <tr>\n",
       "      <th>96535</th>\n",
       "      <td>6542</td>\n",
       "      <td>2015-11-27</td>\n",
       "      <td>DE</td>\n",
       "      <td>77</td>\n",
       "      <td>0</td>\n",
       "      <td>ILVXVFNLVZRLO</td>\n",
       "      <td>2015-11-27</td>\n",
       "      <td>4</td>\n",
       "    </tr>\n",
       "    <tr>\n",
       "      <th>96534</th>\n",
       "      <td>6537</td>\n",
       "      <td>2015-11-27</td>\n",
       "      <td>FR</td>\n",
       "      <td>43</td>\n",
       "      <td>0</td>\n",
       "      <td>EVXZIANZSYNBH</td>\n",
       "      <td>2015-11-27</td>\n",
       "      <td>4</td>\n",
       "    </tr>\n",
       "    <tr>\n",
       "      <th>96533</th>\n",
       "      <td>6522</td>\n",
       "      <td>2015-11-27</td>\n",
       "      <td>IT</td>\n",
       "      <td>73</td>\n",
       "      <td>1</td>\n",
       "      <td>HCYIOMVIKMGTP</td>\n",
       "      <td>2015-11-27</td>\n",
       "      <td>4</td>\n",
       "    </tr>\n",
       "    <tr>\n",
       "      <th>96532</th>\n",
       "      <td>6516</td>\n",
       "      <td>2015-11-27</td>\n",
       "      <td>IT</td>\n",
       "      <td>28</td>\n",
       "      <td>1</td>\n",
       "      <td>AFXJDXQMPJJCS</td>\n",
       "      <td>2015-11-27</td>\n",
       "      <td>4</td>\n",
       "    </tr>\n",
       "    <tr>\n",
       "      <th>96531</th>\n",
       "      <td>6516</td>\n",
       "      <td>2015-11-27</td>\n",
       "      <td>MX</td>\n",
       "      <td>47</td>\n",
       "      <td>0</td>\n",
       "      <td>AFXJDXQMPJJCS</td>\n",
       "      <td>2015-11-27</td>\n",
       "      <td>4</td>\n",
       "    </tr>\n",
       "    <tr>\n",
       "      <th>96537</th>\n",
       "      <td>6573</td>\n",
       "      <td>2015-11-27</td>\n",
       "      <td>US</td>\n",
       "      <td>22</td>\n",
       "      <td>1</td>\n",
       "      <td>FHMMVXOFWHKPL</td>\n",
       "      <td>2015-11-27</td>\n",
       "      <td>4</td>\n",
       "    </tr>\n",
       "    <tr>\n",
       "      <th>96546</th>\n",
       "      <td>6734</td>\n",
       "      <td>2015-11-27</td>\n",
       "      <td>IT</td>\n",
       "      <td>65</td>\n",
       "      <td>1</td>\n",
       "      <td>YNFKTMARMNEJJ</td>\n",
       "      <td>2015-11-27</td>\n",
       "      <td>4</td>\n",
       "    </tr>\n",
       "    <tr>\n",
       "      <th>96547</th>\n",
       "      <td>6737</td>\n",
       "      <td>2015-11-27</td>\n",
       "      <td>MX</td>\n",
       "      <td>59</td>\n",
       "      <td>1</td>\n",
       "      <td>XHYUWURYGDEUZ</td>\n",
       "      <td>2015-11-27</td>\n",
       "      <td>4</td>\n",
       "    </tr>\n",
       "    <tr>\n",
       "      <th>96548</th>\n",
       "      <td>6749</td>\n",
       "      <td>2015-11-27</td>\n",
       "      <td>DE</td>\n",
       "      <td>69</td>\n",
       "      <td>1</td>\n",
       "      <td>YZOMCULPZEQYI</td>\n",
       "      <td>2015-11-27</td>\n",
       "      <td>4</td>\n",
       "    </tr>\n",
       "    <tr>\n",
       "      <th>96563</th>\n",
       "      <td>7011</td>\n",
       "      <td>2015-11-27</td>\n",
       "      <td>IT</td>\n",
       "      <td>49</td>\n",
       "      <td>1</td>\n",
       "      <td>ZDFMJTHJMRBMQ</td>\n",
       "      <td>2015-11-27</td>\n",
       "      <td>4</td>\n",
       "    </tr>\n",
       "    <tr>\n",
       "      <th>96562</th>\n",
       "      <td>7008</td>\n",
       "      <td>2015-11-27</td>\n",
       "      <td>FR</td>\n",
       "      <td>59</td>\n",
       "      <td>1</td>\n",
       "      <td>MKNBRRXSSFUSQ</td>\n",
       "      <td>2015-11-27</td>\n",
       "      <td>4</td>\n",
       "    </tr>\n",
       "    <tr>\n",
       "      <th>96561</th>\n",
       "      <td>6998</td>\n",
       "      <td>2015-11-27</td>\n",
       "      <td>US</td>\n",
       "      <td>66</td>\n",
       "      <td>0</td>\n",
       "      <td>NKUFFLKNILZIV</td>\n",
       "      <td>2015-11-27</td>\n",
       "      <td>4</td>\n",
       "    </tr>\n",
       "    <tr>\n",
       "      <th>96560</th>\n",
       "      <td>6987</td>\n",
       "      <td>2015-11-27</td>\n",
       "      <td>UK</td>\n",
       "      <td>44</td>\n",
       "      <td>1</td>\n",
       "      <td>YNHNVWMBOXZBH</td>\n",
       "      <td>2015-11-27</td>\n",
       "      <td>4</td>\n",
       "    </tr>\n",
       "    <tr>\n",
       "      <th>96559</th>\n",
       "      <td>6971</td>\n",
       "      <td>2015-11-27</td>\n",
       "      <td>IT</td>\n",
       "      <td>41</td>\n",
       "      <td>1</td>\n",
       "      <td>ZMEOCWPPANYXA</td>\n",
       "      <td>2015-11-27</td>\n",
       "      <td>4</td>\n",
       "    </tr>\n",
       "    <tr>\n",
       "      <th>96558</th>\n",
       "      <td>6936</td>\n",
       "      <td>2015-11-27</td>\n",
       "      <td>FR</td>\n",
       "      <td>84</td>\n",
       "      <td>0</td>\n",
       "      <td>QZCILVGDZSIVX</td>\n",
       "      <td>2015-11-27</td>\n",
       "      <td>4</td>\n",
       "    </tr>\n",
       "    <tr>\n",
       "      <th>96557</th>\n",
       "      <td>6933</td>\n",
       "      <td>2015-11-27</td>\n",
       "      <td>CA</td>\n",
       "      <td>68</td>\n",
       "      <td>1</td>\n",
       "      <td>EDSAZOLOXWPHR</td>\n",
       "      <td>2015-11-27</td>\n",
       "      <td>4</td>\n",
       "    </tr>\n",
       "    <tr>\n",
       "      <th>96556</th>\n",
       "      <td>6932</td>\n",
       "      <td>2015-11-27</td>\n",
       "      <td>IT</td>\n",
       "      <td>28</td>\n",
       "      <td>1</td>\n",
       "      <td>JQQHPIFYZPXEW</td>\n",
       "      <td>2015-11-27</td>\n",
       "      <td>4</td>\n",
       "    </tr>\n",
       "    <tr>\n",
       "      <th>96555</th>\n",
       "      <td>6927</td>\n",
       "      <td>2015-11-27</td>\n",
       "      <td>IT</td>\n",
       "      <td>49</td>\n",
       "      <td>0</td>\n",
       "      <td>JPJLUNTTSRBZU</td>\n",
       "      <td>2015-11-27</td>\n",
       "      <td>4</td>\n",
       "    </tr>\n",
       "    <tr>\n",
       "      <th>96554</th>\n",
       "      <td>6911</td>\n",
       "      <td>2015-11-27</td>\n",
       "      <td>IT</td>\n",
       "      <td>84</td>\n",
       "      <td>1</td>\n",
       "      <td>TPLFSIDYXKNKG</td>\n",
       "      <td>2015-11-27</td>\n",
       "      <td>4</td>\n",
       "    </tr>\n",
       "    <tr>\n",
       "      <th>96553</th>\n",
       "      <td>6876</td>\n",
       "      <td>2015-11-27</td>\n",
       "      <td>UK</td>\n",
       "      <td>50</td>\n",
       "      <td>1</td>\n",
       "      <td>WVDCOSISYVIGE</td>\n",
       "      <td>2015-11-27</td>\n",
       "      <td>4</td>\n",
       "    </tr>\n",
       "    <tr>\n",
       "      <th>96552</th>\n",
       "      <td>6863</td>\n",
       "      <td>2015-11-27</td>\n",
       "      <td>ES</td>\n",
       "      <td>68</td>\n",
       "      <td>1</td>\n",
       "      <td>UYLRIQCFWCSGU</td>\n",
       "      <td>2015-11-27</td>\n",
       "      <td>4</td>\n",
       "    </tr>\n",
       "    <tr>\n",
       "      <th>96551</th>\n",
       "      <td>6787</td>\n",
       "      <td>2015-11-27</td>\n",
       "      <td>FR</td>\n",
       "      <td>61</td>\n",
       "      <td>1</td>\n",
       "      <td>ZQBWTBOLFKYIO</td>\n",
       "      <td>2015-11-27</td>\n",
       "      <td>4</td>\n",
       "    </tr>\n",
       "    <tr>\n",
       "      <th>96550</th>\n",
       "      <td>6783</td>\n",
       "      <td>2015-11-27</td>\n",
       "      <td>IT</td>\n",
       "      <td>54</td>\n",
       "      <td>0</td>\n",
       "      <td>ORRFYYNXIUMMM</td>\n",
       "      <td>2015-11-27</td>\n",
       "      <td>4</td>\n",
       "    </tr>\n",
       "    <tr>\n",
       "      <th>96549</th>\n",
       "      <td>6752</td>\n",
       "      <td>2015-11-27</td>\n",
       "      <td>ES</td>\n",
       "      <td>39</td>\n",
       "      <td>0</td>\n",
       "      <td>NNQYNPVSHSBAI</td>\n",
       "      <td>2015-11-27</td>\n",
       "      <td>4</td>\n",
       "    </tr>\n",
       "    <tr>\n",
       "      <th>96565</th>\n",
       "      <td>7052</td>\n",
       "      <td>2015-11-27</td>\n",
       "      <td>CA</td>\n",
       "      <td>30</td>\n",
       "      <td>1</td>\n",
       "      <td>ONEDBUCSPAPKX</td>\n",
       "      <td>2015-11-27</td>\n",
       "      <td>4</td>\n",
       "    </tr>\n",
       "    <tr>\n",
       "      <th>97340</th>\n",
       "      <td>19984</td>\n",
       "      <td>2015-11-27</td>\n",
       "      <td>FR</td>\n",
       "      <td>15</td>\n",
       "      <td>1</td>\n",
       "      <td>VFXAMMQDFORSS</td>\n",
       "      <td>2015-11-27</td>\n",
       "      <td>4</td>\n",
       "    </tr>\n",
       "  </tbody>\n",
       "</table>\n",
       "<p>97341 rows × 8 columns</p>\n",
       "</div>"
      ],
      "text/plain": [
       "       user_id        date country  money_spent  is_referral      device_id  \\\n",
       "0            2  2015-10-03      FR           65            0  EVDCJTZMVMJDG   \n",
       "2026      3359  2015-10-03      FR           52            0  SLTOQRGXCRCDR   \n",
       "2027      3361  2015-10-03      IT           15            0  JCVODKLEUCOHG   \n",
       "2028      3363  2015-10-03      MX           22            0  TYNDFWAGPLAWW   \n",
       "2029      3365  2015-10-03      DE           28            0  KFMTKUTQJIKNQ   \n",
       "2030      3367  2015-10-03      DE           78            0  IYWSGFTCZPPXK   \n",
       "2031      3368  2015-10-03      DE           71            0  AFJJUPQKHUKMR   \n",
       "2032      3372  2015-10-03      MX           33            0  VWFNKWVNMXCPB   \n",
       "2033      3373  2015-10-03      US           19            0  UYTSZDACUXQVW   \n",
       "2034      3374  2015-10-03      US           30            0  LKEZQJDZFVLDP   \n",
       "2035      3375  2015-10-03      IT           50            0  ZNBJDBYJWENYO   \n",
       "2036      3375  2015-10-03      US           48            0  ZNBJDBYJWENYO   \n",
       "2037      3375  2015-10-03      DE           47            0  QRAOEZEZDNXKT   \n",
       "2038      3376  2015-10-03      FR           71            0  WBRXBDGCDFPVU   \n",
       "2039      3376  2015-10-03      UK           92            0  WBRXBDGCDFPVU   \n",
       "2040      3378  2015-10-03      IT           32            0  UTKTORKZRHSLA   \n",
       "2041      3379  2015-10-03      US           55            0  FEAFUTJOOHMDH   \n",
       "2042      3380  2015-10-03      FR           69            0  BUFEOMEFVDMBH   \n",
       "2043      3380  2015-10-03      UK           41            0  BUFEOMEFVDMBH   \n",
       "2044      3380  2015-10-03      US           20            0  BUFEOMEFVDMBH   \n",
       "2025      3357  2015-10-03      IT           47            0  NUWKSQSIWNIAQ   \n",
       "2024      3357  2015-10-03      FR           22            0  NUWKSQSIWNIAQ   \n",
       "2023      3356  2015-10-03      UK           16            0  VXNZXFEHUPGXQ   \n",
       "2022      3356  2015-10-03      FR           41            0  VXNZXFEHUPGXQ   \n",
       "2002      3328  2015-10-03      MX           14            0  FJLXQWLAUCOIA   \n",
       "2003      3329  2015-10-03      DE           14            0  YDDRZXFDMCMBI   \n",
       "2004      3331  2015-10-03      UK           64            0  ENURJKFAUPRQP   \n",
       "2005      3332  2015-10-03      US           46            0  SQCGKFXGEDDZI   \n",
       "2006      3332  2015-10-03      CH           44            0  SQCGKFXGEDDZI   \n",
       "2007      3332  2015-10-03      CA           12            0  SQCGKFXGEDDZI   \n",
       "...        ...         ...     ...          ...          ...            ...   \n",
       "96539     6601  2015-11-27      UK           32            1  STMFNFQHKHFSJ   \n",
       "96545     6714  2015-11-27      ES           57            1  KJHRWPUGSDLHD   \n",
       "96538     6591  2015-11-27      CH          138            0  YQXGYLSOGCUJF   \n",
       "96536     6546  2015-11-27      FR           39            1  IZCANUOIQWKSJ   \n",
       "96535     6542  2015-11-27      DE           77            0  ILVXVFNLVZRLO   \n",
       "96534     6537  2015-11-27      FR           43            0  EVXZIANZSYNBH   \n",
       "96533     6522  2015-11-27      IT           73            1  HCYIOMVIKMGTP   \n",
       "96532     6516  2015-11-27      IT           28            1  AFXJDXQMPJJCS   \n",
       "96531     6516  2015-11-27      MX           47            0  AFXJDXQMPJJCS   \n",
       "96537     6573  2015-11-27      US           22            1  FHMMVXOFWHKPL   \n",
       "96546     6734  2015-11-27      IT           65            1  YNFKTMARMNEJJ   \n",
       "96547     6737  2015-11-27      MX           59            1  XHYUWURYGDEUZ   \n",
       "96548     6749  2015-11-27      DE           69            1  YZOMCULPZEQYI   \n",
       "96563     7011  2015-11-27      IT           49            1  ZDFMJTHJMRBMQ   \n",
       "96562     7008  2015-11-27      FR           59            1  MKNBRRXSSFUSQ   \n",
       "96561     6998  2015-11-27      US           66            0  NKUFFLKNILZIV   \n",
       "96560     6987  2015-11-27      UK           44            1  YNHNVWMBOXZBH   \n",
       "96559     6971  2015-11-27      IT           41            1  ZMEOCWPPANYXA   \n",
       "96558     6936  2015-11-27      FR           84            0  QZCILVGDZSIVX   \n",
       "96557     6933  2015-11-27      CA           68            1  EDSAZOLOXWPHR   \n",
       "96556     6932  2015-11-27      IT           28            1  JQQHPIFYZPXEW   \n",
       "96555     6927  2015-11-27      IT           49            0  JPJLUNTTSRBZU   \n",
       "96554     6911  2015-11-27      IT           84            1  TPLFSIDYXKNKG   \n",
       "96553     6876  2015-11-27      UK           50            1  WVDCOSISYVIGE   \n",
       "96552     6863  2015-11-27      ES           68            1  UYLRIQCFWCSGU   \n",
       "96551     6787  2015-11-27      FR           61            1  ZQBWTBOLFKYIO   \n",
       "96550     6783  2015-11-27      IT           54            0  ORRFYYNXIUMMM   \n",
       "96549     6752  2015-11-27      ES           39            0  NNQYNPVSHSBAI   \n",
       "96565     7052  2015-11-27      CA           30            1  ONEDBUCSPAPKX   \n",
       "97340    19984  2015-11-27      FR           15            1  VFXAMMQDFORSS   \n",
       "\n",
       "       timestamp  weekday  \n",
       "0     2015-10-03        5  \n",
       "2026  2015-10-03        5  \n",
       "2027  2015-10-03        5  \n",
       "2028  2015-10-03        5  \n",
       "2029  2015-10-03        5  \n",
       "2030  2015-10-03        5  \n",
       "2031  2015-10-03        5  \n",
       "2032  2015-10-03        5  \n",
       "2033  2015-10-03        5  \n",
       "2034  2015-10-03        5  \n",
       "2035  2015-10-03        5  \n",
       "2036  2015-10-03        5  \n",
       "2037  2015-10-03        5  \n",
       "2038  2015-10-03        5  \n",
       "2039  2015-10-03        5  \n",
       "2040  2015-10-03        5  \n",
       "2041  2015-10-03        5  \n",
       "2042  2015-10-03        5  \n",
       "2043  2015-10-03        5  \n",
       "2044  2015-10-03        5  \n",
       "2025  2015-10-03        5  \n",
       "2024  2015-10-03        5  \n",
       "2023  2015-10-03        5  \n",
       "2022  2015-10-03        5  \n",
       "2002  2015-10-03        5  \n",
       "2003  2015-10-03        5  \n",
       "2004  2015-10-03        5  \n",
       "2005  2015-10-03        5  \n",
       "2006  2015-10-03        5  \n",
       "2007  2015-10-03        5  \n",
       "...          ...      ...  \n",
       "96539 2015-11-27        4  \n",
       "96545 2015-11-27        4  \n",
       "96538 2015-11-27        4  \n",
       "96536 2015-11-27        4  \n",
       "96535 2015-11-27        4  \n",
       "96534 2015-11-27        4  \n",
       "96533 2015-11-27        4  \n",
       "96532 2015-11-27        4  \n",
       "96531 2015-11-27        4  \n",
       "96537 2015-11-27        4  \n",
       "96546 2015-11-27        4  \n",
       "96547 2015-11-27        4  \n",
       "96548 2015-11-27        4  \n",
       "96563 2015-11-27        4  \n",
       "96562 2015-11-27        4  \n",
       "96561 2015-11-27        4  \n",
       "96560 2015-11-27        4  \n",
       "96559 2015-11-27        4  \n",
       "96558 2015-11-27        4  \n",
       "96557 2015-11-27        4  \n",
       "96556 2015-11-27        4  \n",
       "96555 2015-11-27        4  \n",
       "96554 2015-11-27        4  \n",
       "96553 2015-11-27        4  \n",
       "96552 2015-11-27        4  \n",
       "96551 2015-11-27        4  \n",
       "96550 2015-11-27        4  \n",
       "96549 2015-11-27        4  \n",
       "96565 2015-11-27        4  \n",
       "97340 2015-11-27        4  \n",
       "\n",
       "[97341 rows x 8 columns]"
      ]
     },
     "execution_count": 28,
     "metadata": {},
     "output_type": "execute_result"
    }
   ],
   "source": [
    "df"
   ]
  },
  {
   "cell_type": "code",
   "execution_count": 29,
   "metadata": {
    "collapsed": false
   },
   "outputs": [
    {
     "data": {
      "text/plain": [
       "<matplotlib.axes._subplots.AxesSubplot at 0x11af4b450>"
      ]
     },
     "execution_count": 29,
     "metadata": {},
     "output_type": "execute_result"
    },
    {
     "data": {
      "image/png": "[encoded data removed]",
      "text/plain": [
       "<matplotlib.figure.Figure at 0x11aeef1d0>"
      ]
     },
     "metadata": {},
     "output_type": "display_data"
    }
   ],
   "source": [
    "#average transaction of referaal and non-referral \n",
    "sns.boxplot(x=\"is_referral\", y=\"money_spent\", data =df)"
   ]
  },
  {
   "cell_type": "code",
   "execution_count": 30,
   "metadata": {
    "collapsed": false
   },
   "outputs": [],
   "source": [
    "df = df.merge(df.groupby('user_id')[\"user_id\"].count().reset_index(name=\"count\"),on=['user_id'], how='left')"
   ]
  },
  {
   "cell_type": "code",
   "execution_count": 31,
   "metadata": {
    "collapsed": false
   },
   "outputs": [
    {
     "data": {
      "text/html": [
       "<div>\n",
       "<style>\n",
       "    .dataframe thead tr:only-child th {\n",
       "        text-align: right;\n",
       "    }\n",
       "\n",
       "    .dataframe thead th {\n",
       "        text-align: left;\n",
       "    }\n",
       "\n",
       "    .dataframe tbody tr th {\n",
       "        vertical-align: top;\n",
       "    }\n",
       "</style>\n",
       "<table border=\"1\" class=\"dataframe\">\n",
       "  <thead>\n",
       "    <tr style=\"text-align: right;\">\n",
       "      <th></th>\n",
       "      <th>user_id</th>\n",
       "      <th>date</th>\n",
       "      <th>country</th>\n",
       "      <th>money_spent</th>\n",
       "      <th>is_referral</th>\n",
       "      <th>device_id</th>\n",
       "      <th>timestamp</th>\n",
       "      <th>weekday</th>\n",
       "      <th>count</th>\n",
       "    </tr>\n",
       "  </thead>\n",
       "  <tbody>\n",
       "    <tr>\n",
       "      <th>0</th>\n",
       "      <td>2</td>\n",
       "      <td>2015-10-03</td>\n",
       "      <td>FR</td>\n",
       "      <td>65</td>\n",
       "      <td>0</td>\n",
       "      <td>EVDCJTZMVMJDG</td>\n",
       "      <td>2015-10-03</td>\n",
       "      <td>5</td>\n",
       "      <td>14</td>\n",
       "    </tr>\n",
       "    <tr>\n",
       "      <th>1</th>\n",
       "      <td>3359</td>\n",
       "      <td>2015-10-03</td>\n",
       "      <td>FR</td>\n",
       "      <td>52</td>\n",
       "      <td>0</td>\n",
       "      <td>SLTOQRGXCRCDR</td>\n",
       "      <td>2015-10-03</td>\n",
       "      <td>5</td>\n",
       "      <td>14</td>\n",
       "    </tr>\n",
       "    <tr>\n",
       "      <th>2</th>\n",
       "      <td>3361</td>\n",
       "      <td>2015-10-03</td>\n",
       "      <td>IT</td>\n",
       "      <td>15</td>\n",
       "      <td>0</td>\n",
       "      <td>JCVODKLEUCOHG</td>\n",
       "      <td>2015-10-03</td>\n",
       "      <td>5</td>\n",
       "      <td>14</td>\n",
       "    </tr>\n",
       "    <tr>\n",
       "      <th>3</th>\n",
       "      <td>3363</td>\n",
       "      <td>2015-10-03</td>\n",
       "      <td>MX</td>\n",
       "      <td>22</td>\n",
       "      <td>0</td>\n",
       "      <td>TYNDFWAGPLAWW</td>\n",
       "      <td>2015-10-03</td>\n",
       "      <td>5</td>\n",
       "      <td>11</td>\n",
       "    </tr>\n",
       "    <tr>\n",
       "      <th>4</th>\n",
       "      <td>3365</td>\n",
       "      <td>2015-10-03</td>\n",
       "      <td>DE</td>\n",
       "      <td>28</td>\n",
       "      <td>0</td>\n",
       "      <td>KFMTKUTQJIKNQ</td>\n",
       "      <td>2015-10-03</td>\n",
       "      <td>5</td>\n",
       "      <td>15</td>\n",
       "    </tr>\n",
       "  </tbody>\n",
       "</table>\n",
       "</div>"
      ],
      "text/plain": [
       "   user_id        date country  money_spent  is_referral      device_id  \\\n",
       "0        2  2015-10-03      FR           65            0  EVDCJTZMVMJDG   \n",
       "1     3359  2015-10-03      FR           52            0  SLTOQRGXCRCDR   \n",
       "2     3361  2015-10-03      IT           15            0  JCVODKLEUCOHG   \n",
       "3     3363  2015-10-03      MX           22            0  TYNDFWAGPLAWW   \n",
       "4     3365  2015-10-03      DE           28            0  KFMTKUTQJIKNQ   \n",
       "\n",
       "   timestamp  weekday  count  \n",
       "0 2015-10-03        5     14  \n",
       "1 2015-10-03        5     14  \n",
       "2 2015-10-03        5     14  \n",
       "3 2015-10-03        5     11  \n",
       "4 2015-10-03        5     15  "
      ]
     },
     "execution_count": 31,
     "metadata": {},
     "output_type": "execute_result"
    }
   ],
   "source": [
    "df.head()"
   ]
  },
  {
   "cell_type": "code",
   "execution_count": 32,
   "metadata": {
    "collapsed": true
   },
   "outputs": [],
   "source": [
    "df = df.merge(df_pre.groupby('user_id')[\"user_id\"].count().reset_index(name=\"count_pre\"),on=['user_id'], how='left')"
   ]
  },
  {
   "cell_type": "code",
   "execution_count": 33,
   "metadata": {
    "collapsed": true
   },
   "outputs": [],
   "source": [
    "df = df.merge(df_post.groupby('user_id')[\"user_id\"].count().reset_index(name=\"count_post\"),on=['user_id'], how='left')"
   ]
  },
  {
   "cell_type": "code",
   "execution_count": 34,
   "metadata": {
    "collapsed": false
   },
   "outputs": [
    {
     "data": {
      "text/html": [
       "<div>\n",
       "<style>\n",
       "    .dataframe thead tr:only-child th {\n",
       "        text-align: right;\n",
       "    }\n",
       "\n",
       "    .dataframe thead th {\n",
       "        text-align: left;\n",
       "    }\n",
       "\n",
       "    .dataframe tbody tr th {\n",
       "        vertical-align: top;\n",
       "    }\n",
       "</style>\n",
       "<table border=\"1\" class=\"dataframe\">\n",
       "  <thead>\n",
       "    <tr style=\"text-align: right;\">\n",
       "      <th></th>\n",
       "      <th>user_id</th>\n",
       "      <th>date</th>\n",
       "      <th>country</th>\n",
       "      <th>money_spent</th>\n",
       "      <th>is_referral</th>\n",
       "      <th>device_id</th>\n",
       "      <th>timestamp</th>\n",
       "      <th>weekday</th>\n",
       "      <th>count</th>\n",
       "      <th>count_pre</th>\n",
       "      <th>count_post</th>\n",
       "    </tr>\n",
       "  </thead>\n",
       "  <tbody>\n",
       "    <tr>\n",
       "      <th>0</th>\n",
       "      <td>2</td>\n",
       "      <td>2015-10-03</td>\n",
       "      <td>FR</td>\n",
       "      <td>65</td>\n",
       "      <td>0</td>\n",
       "      <td>EVDCJTZMVMJDG</td>\n",
       "      <td>2015-10-03</td>\n",
       "      <td>5</td>\n",
       "      <td>14</td>\n",
       "      <td>11.0</td>\n",
       "      <td>3.0</td>\n",
       "    </tr>\n",
       "    <tr>\n",
       "      <th>1</th>\n",
       "      <td>3359</td>\n",
       "      <td>2015-10-03</td>\n",
       "      <td>FR</td>\n",
       "      <td>52</td>\n",
       "      <td>0</td>\n",
       "      <td>SLTOQRGXCRCDR</td>\n",
       "      <td>2015-10-03</td>\n",
       "      <td>5</td>\n",
       "      <td>14</td>\n",
       "      <td>9.0</td>\n",
       "      <td>5.0</td>\n",
       "    </tr>\n",
       "    <tr>\n",
       "      <th>2</th>\n",
       "      <td>3361</td>\n",
       "      <td>2015-10-03</td>\n",
       "      <td>IT</td>\n",
       "      <td>15</td>\n",
       "      <td>0</td>\n",
       "      <td>JCVODKLEUCOHG</td>\n",
       "      <td>2015-10-03</td>\n",
       "      <td>5</td>\n",
       "      <td>14</td>\n",
       "      <td>14.0</td>\n",
       "      <td>0.0</td>\n",
       "    </tr>\n",
       "    <tr>\n",
       "      <th>3</th>\n",
       "      <td>3363</td>\n",
       "      <td>2015-10-03</td>\n",
       "      <td>MX</td>\n",
       "      <td>22</td>\n",
       "      <td>0</td>\n",
       "      <td>TYNDFWAGPLAWW</td>\n",
       "      <td>2015-10-03</td>\n",
       "      <td>5</td>\n",
       "      <td>11</td>\n",
       "      <td>8.0</td>\n",
       "      <td>3.0</td>\n",
       "    </tr>\n",
       "    <tr>\n",
       "      <th>4</th>\n",
       "      <td>3365</td>\n",
       "      <td>2015-10-03</td>\n",
       "      <td>DE</td>\n",
       "      <td>28</td>\n",
       "      <td>0</td>\n",
       "      <td>KFMTKUTQJIKNQ</td>\n",
       "      <td>2015-10-03</td>\n",
       "      <td>5</td>\n",
       "      <td>15</td>\n",
       "      <td>14.0</td>\n",
       "      <td>1.0</td>\n",
       "    </tr>\n",
       "  </tbody>\n",
       "</table>\n",
       "</div>"
      ],
      "text/plain": [
       "   user_id        date country  money_spent  is_referral      device_id  \\\n",
       "0        2  2015-10-03      FR           65            0  EVDCJTZMVMJDG   \n",
       "1     3359  2015-10-03      FR           52            0  SLTOQRGXCRCDR   \n",
       "2     3361  2015-10-03      IT           15            0  JCVODKLEUCOHG   \n",
       "3     3363  2015-10-03      MX           22            0  TYNDFWAGPLAWW   \n",
       "4     3365  2015-10-03      DE           28            0  KFMTKUTQJIKNQ   \n",
       "\n",
       "   timestamp  weekday  count  count_pre  count_post  \n",
       "0 2015-10-03        5     14       11.0         3.0  \n",
       "1 2015-10-03        5     14        9.0         5.0  \n",
       "2 2015-10-03        5     14       14.0         0.0  \n",
       "3 2015-10-03        5     11        8.0         3.0  \n",
       "4 2015-10-03        5     15       14.0         1.0  "
      ]
     },
     "execution_count": 34,
     "metadata": {},
     "output_type": "execute_result"
    }
   ],
   "source": [
    "df = df.fillna(0)\n",
    "df.head()"
   ]
  },
  {
   "cell_type": "code",
   "execution_count": 35,
   "metadata": {
    "collapsed": false
   },
   "outputs": [
    {
     "data": {
      "text/html": [
       "<div>\n",
       "<style>\n",
       "    .dataframe thead tr:only-child th {\n",
       "        text-align: right;\n",
       "    }\n",
       "\n",
       "    .dataframe thead th {\n",
       "        text-align: left;\n",
       "    }\n",
       "\n",
       "    .dataframe tbody tr th {\n",
       "        vertical-align: top;\n",
       "    }\n",
       "</style>\n",
       "<table border=\"1\" class=\"dataframe\">\n",
       "  <thead>\n",
       "    <tr style=\"text-align: right;\">\n",
       "      <th></th>\n",
       "      <th>user_id</th>\n",
       "      <th>money_spent</th>\n",
       "      <th>is_referral</th>\n",
       "      <th>weekday</th>\n",
       "      <th>count</th>\n",
       "      <th>count_pre</th>\n",
       "      <th>count_post</th>\n",
       "    </tr>\n",
       "  </thead>\n",
       "  <tbody>\n",
       "    <tr>\n",
       "      <th>count</th>\n",
       "      <td>97341.000000</td>\n",
       "      <td>97341.000000</td>\n",
       "      <td>97341.000000</td>\n",
       "      <td>97341.000000</td>\n",
       "      <td>97341.000000</td>\n",
       "      <td>97341.000000</td>\n",
       "      <td>97341.000000</td>\n",
       "    </tr>\n",
       "    <tr>\n",
       "      <th>mean</th>\n",
       "      <td>6354.801029</td>\n",
       "      <td>44.692360</td>\n",
       "      <td>0.287823</td>\n",
       "      <td>3.804307</td>\n",
       "      <td>9.357609</td>\n",
       "      <td>6.172959</td>\n",
       "      <td>3.184650</td>\n",
       "    </tr>\n",
       "    <tr>\n",
       "      <th>std</th>\n",
       "      <td>5682.991186</td>\n",
       "      <td>22.791839</td>\n",
       "      <td>0.452751</td>\n",
       "      <td>2.043796</td>\n",
       "      <td>5.478831</td>\n",
       "      <td>5.446563</td>\n",
       "      <td>1.684704</td>\n",
       "    </tr>\n",
       "    <tr>\n",
       "      <th>min</th>\n",
       "      <td>1.000000</td>\n",
       "      <td>10.000000</td>\n",
       "      <td>0.000000</td>\n",
       "      <td>0.000000</td>\n",
       "      <td>1.000000</td>\n",
       "      <td>0.000000</td>\n",
       "      <td>0.000000</td>\n",
       "    </tr>\n",
       "    <tr>\n",
       "      <th>25%</th>\n",
       "      <td>2020.000000</td>\n",
       "      <td>27.000000</td>\n",
       "      <td>0.000000</td>\n",
       "      <td>2.000000</td>\n",
       "      <td>4.000000</td>\n",
       "      <td>0.000000</td>\n",
       "      <td>2.000000</td>\n",
       "    </tr>\n",
       "    <tr>\n",
       "      <th>50%</th>\n",
       "      <td>4053.000000</td>\n",
       "      <td>42.000000</td>\n",
       "      <td>0.000000</td>\n",
       "      <td>5.000000</td>\n",
       "      <td>10.000000</td>\n",
       "      <td>7.000000</td>\n",
       "      <td>3.000000</td>\n",
       "    </tr>\n",
       "    <tr>\n",
       "      <th>75%</th>\n",
       "      <td>10286.000000</td>\n",
       "      <td>59.000000</td>\n",
       "      <td>1.000000</td>\n",
       "      <td>6.000000</td>\n",
       "      <td>14.000000</td>\n",
       "      <td>11.000000</td>\n",
       "      <td>4.000000</td>\n",
       "    </tr>\n",
       "    <tr>\n",
       "      <th>max</th>\n",
       "      <td>20000.000000</td>\n",
       "      <td>220.000000</td>\n",
       "      <td>1.000000</td>\n",
       "      <td>6.000000</td>\n",
       "      <td>27.000000</td>\n",
       "      <td>21.000000</td>\n",
       "      <td>11.000000</td>\n",
       "    </tr>\n",
       "  </tbody>\n",
       "</table>\n",
       "</div>"
      ],
      "text/plain": [
       "            user_id   money_spent   is_referral       weekday         count  \\\n",
       "count  97341.000000  97341.000000  97341.000000  97341.000000  97341.000000   \n",
       "mean    6354.801029     44.692360      0.287823      3.804307      9.357609   \n",
       "std     5682.991186     22.791839      0.452751      2.043796      5.478831   \n",
       "min        1.000000     10.000000      0.000000      0.000000      1.000000   \n",
       "25%     2020.000000     27.000000      0.000000      2.000000      4.000000   \n",
       "50%     4053.000000     42.000000      0.000000      5.000000     10.000000   \n",
       "75%    10286.000000     59.000000      1.000000      6.000000     14.000000   \n",
       "max    20000.000000    220.000000      1.000000      6.000000     27.000000   \n",
       "\n",
       "          count_pre    count_post  \n",
       "count  97341.000000  97341.000000  \n",
       "mean       6.172959      3.184650  \n",
       "std        5.446563      1.684704  \n",
       "min        0.000000      0.000000  \n",
       "25%        0.000000      2.000000  \n",
       "50%        7.000000      3.000000  \n",
       "75%       11.000000      4.000000  \n",
       "max       21.000000     11.000000  "
      ]
     },
     "execution_count": 35,
     "metadata": {},
     "output_type": "execute_result"
    }
   ],
   "source": [
    "df.describe()"
   ]
  },
  {
   "cell_type": "code",
   "execution_count": 36,
   "metadata": {
    "collapsed": false
   },
   "outputs": [
    {
     "name": "stdout",
     "output_type": "stream",
     "text": [
      "           device_id  num_users\n",
      "5589   ICNAOXZYHRUAJ          6\n",
      "614    AWGTEQRKHBJIX          6\n",
      "5383   HUYRSSPXDDXOV          6\n",
      "7371   KRCJDOKOJKBRI          6\n",
      "11418  QPBBTRFFAXPZK          6\n",
      "12074  ROGVQQZEUXDPP          6\n",
      "2447   DLXRTYWSFWWMM          6\n",
      "9366   NOGAETBPGEMCS          6\n",
      "3811   FNCXJPUMZIIUD          5\n",
      "16921  YOUFIFIHBKBGL          5\n",
      "4118   FYYLMHYOVZFRH          5\n",
      "3846   FOLFCBHQFAEPV          5\n",
      "7060   KFIHNKTUQDOVL          5\n",
      "9785   ODZENCMHUBWGF          5\n",
      "2362   DIVNMBNATWJBZ          5\n",
      "90     ADMNVGYYYQUGG          5\n",
      "16431  XWJZOFTOVEPSN          5\n",
      "15785  WYKZBIQQFLXQY          5\n",
      "4103   FYJZYTAPFMCHD          5\n",
      "13560  TRRWVSWCDXMQD          5\n",
      "480    ARPWVRJIXNPQF          5\n",
      "8934   MYOMHLAFJTZVI          5\n",
      "13543  TRFMIUAPPWHEH          5\n",
      "8807   MUJCIXYTDNFOR          5\n",
      "7280   KNIBGXNIBBDOM          5\n",
      "7893   LMHUDCDGJPXYC          5\n",
      "11801  RDQZAFXYSYYXN          5\n",
      "1372   BYKRZALYKIGAF          5\n",
      "4889   HCHXOMWZFWECD          5\n",
      "15954  XFCELNGZLAYCP          5\n",
      "...              ...        ...\n",
      "6700   JSQHGSRQIKTFG          1\n",
      "6699   JSQESYLFGZCCW          1\n",
      "6679   JRYZBAZVHWMAZ          1\n",
      "6661   JRMAOQVQSYVHT          1\n",
      "6662   JRMRCHCKPRWRC          1\n",
      "6663   JRMRXJAPJHJEY          1\n",
      "6665   JRNKRZOSGUMRJ          1\n",
      "6666   JRNRLBWGTDVXP          1\n",
      "6667   JRNTNVXDVXNOB          1\n",
      "6668   JRPNZEWOIVJEF          1\n",
      "6669   JRPQSHMHMKXMJ          1\n",
      "6670   JRPTYBMRHENFC          1\n",
      "6671   JRQBXZNJJEKDP          1\n",
      "6675   JRUEJMJDLAKRX          1\n",
      "6678   JRYYBHBFCLKOT          1\n",
      "6680   JRZPZNEHRMLUD          1\n",
      "6697   JSOBAHLIPGRXB          1\n",
      "6681   JSAMNFRRSDUMY          1\n",
      "6683   JSBUOAADOVDEY          1\n",
      "6684   JSDAUFSIMVYXE          1\n",
      "6685   JSEALRMPZWLOK          1\n",
      "6686   JSFLMFOJAUATK          1\n",
      "6687   JSFSDBSRAWESH          1\n",
      "6688   JSFXTTESNAMPH          1\n",
      "6689   JSGEHUIDKJPJM          1\n",
      "6691   JSKUPJSWEDZCY          1\n",
      "6692   JSKZMADMGRUDK          1\n",
      "6694   JSLYQJBVCILPJ          1\n",
      "6696   JSMWHBDNKUJXP          1\n",
      "17886  ZZZQXVQPYYOGP          1\n",
      "\n",
      "[17887 rows x 2 columns]\n"
     ]
    }
   ],
   "source": [
    "devices = df.groupby(\"device_id\").user_id.nunique().reset_index()\n",
    "devices.columns = ['device_id','num_users']\n",
    "print(devices.sort_values('num_users',ascending=False))"
   ]
  },
  {
   "cell_type": "code",
   "execution_count": 37,
   "metadata": {
    "collapsed": false
   },
   "outputs": [
    {
     "data": {
      "text/plain": [
       "<matplotlib.axes._subplots.AxesSubplot at 0x11b3cec50>"
      ]
     },
     "execution_count": 37,
     "metadata": {},
     "output_type": "execute_result"
    },
    {
     "data": {
      "image/png": "[encoded data removed]",
      "text/plain": [
       "<matplotlib.figure.Figure at 0x11ac4cd90>"
      ]
     },
     "metadata": {},
     "output_type": "display_data"
    }
   ],
   "source": [
    "#Distribution of number of users\n",
    "sns.distplot(devices.num_users)"
   ]
  },
  {
   "cell_type": "code",
   "execution_count": 38,
   "metadata": {
    "collapsed": false
   },
   "outputs": [
    {
     "data": {
      "image/png": "[encoded data removed]",
      "text/plain": [
       "<matplotlib.figure.Figure at 0x1150149d0>"
      ]
     },
     "metadata": {},
     "output_type": "display_data"
    }
   ],
   "source": [
    "#histogram of number of users\n",
    "devices.num_users.hist()\n",
    "plt.show()"
   ]
  },
  {
   "cell_type": "code",
   "execution_count": 39,
   "metadata": {
    "collapsed": false
   },
   "outputs": [],
   "source": [
    "def device_df(df_):\n",
    "    device_id_list = []\n",
    "    count_user_list = []\n",
    "    for val,group in df_.groupby('device_id'):\n",
    "       [device_id,count_user]=val, len(group['user_id'].unique())\n",
    "       device_id_list.append(device_id)\n",
    "       count_user_list.append(count_user)\n",
    "    device_df = pd.DataFrame(columns=['device_id','count_user'])\n",
    "    device_df['device_id'] = device_id_list\n",
    "    device_df['count_user'] = count_user_list\n",
    "    return device_df"
   ]
  },
  {
   "cell_type": "code",
   "execution_count": 40,
   "metadata": {
    "collapsed": false
   },
   "outputs": [],
   "source": [
    "device_df_pre=device_df(df_pre)"
   ]
  },
  {
   "cell_type": "code",
   "execution_count": 41,
   "metadata": {
    "collapsed": false
   },
   "outputs": [
    {
     "data": {
      "text/html": [
       "<div>\n",
       "<style>\n",
       "    .dataframe thead tr:only-child th {\n",
       "        text-align: right;\n",
       "    }\n",
       "\n",
       "    .dataframe thead th {\n",
       "        text-align: left;\n",
       "    }\n",
       "\n",
       "    .dataframe tbody tr th {\n",
       "        vertical-align: top;\n",
       "    }\n",
       "</style>\n",
       "<table border=\"1\" class=\"dataframe\">\n",
       "  <thead>\n",
       "    <tr style=\"text-align: right;\">\n",
       "      <th></th>\n",
       "      <th>count_user</th>\n",
       "    </tr>\n",
       "  </thead>\n",
       "  <tbody>\n",
       "    <tr>\n",
       "      <th>count</th>\n",
       "      <td>7264.000000</td>\n",
       "    </tr>\n",
       "    <tr>\n",
       "      <th>mean</th>\n",
       "      <td>1.006883</td>\n",
       "    </tr>\n",
       "    <tr>\n",
       "      <th>std</th>\n",
       "      <td>0.082685</td>\n",
       "    </tr>\n",
       "    <tr>\n",
       "      <th>min</th>\n",
       "      <td>1.000000</td>\n",
       "    </tr>\n",
       "    <tr>\n",
       "      <th>25%</th>\n",
       "      <td>1.000000</td>\n",
       "    </tr>\n",
       "    <tr>\n",
       "      <th>50%</th>\n",
       "      <td>1.000000</td>\n",
       "    </tr>\n",
       "    <tr>\n",
       "      <th>75%</th>\n",
       "      <td>1.000000</td>\n",
       "    </tr>\n",
       "    <tr>\n",
       "      <th>max</th>\n",
       "      <td>2.000000</td>\n",
       "    </tr>\n",
       "  </tbody>\n",
       "</table>\n",
       "</div>"
      ],
      "text/plain": [
       "        count_user\n",
       "count  7264.000000\n",
       "mean      1.006883\n",
       "std       0.082685\n",
       "min       1.000000\n",
       "25%       1.000000\n",
       "50%       1.000000\n",
       "75%       1.000000\n",
       "max       2.000000"
      ]
     },
     "execution_count": 41,
     "metadata": {},
     "output_type": "execute_result"
    }
   ],
   "source": [
    "device_df_pre.describe()"
   ]
  },
  {
   "cell_type": "code",
   "execution_count": 42,
   "metadata": {
    "collapsed": true
   },
   "outputs": [],
   "source": [
    "device_df_post=device_df(df_post)"
   ]
  },
  {
   "cell_type": "code",
   "execution_count": 43,
   "metadata": {
    "collapsed": false
   },
   "outputs": [
    {
     "data": {
      "text/html": [
       "<div>\n",
       "<style>\n",
       "    .dataframe thead tr:only-child th {\n",
       "        text-align: right;\n",
       "    }\n",
       "\n",
       "    .dataframe thead th {\n",
       "        text-align: left;\n",
       "    }\n",
       "\n",
       "    .dataframe tbody tr th {\n",
       "        vertical-align: top;\n",
       "    }\n",
       "</style>\n",
       "<table border=\"1\" class=\"dataframe\">\n",
       "  <thead>\n",
       "    <tr style=\"text-align: right;\">\n",
       "      <th></th>\n",
       "      <th>count_user</th>\n",
       "    </tr>\n",
       "  </thead>\n",
       "  <tbody>\n",
       "    <tr>\n",
       "      <th>count</th>\n",
       "      <td>15244.000000</td>\n",
       "    </tr>\n",
       "    <tr>\n",
       "      <th>mean</th>\n",
       "      <td>1.369326</td>\n",
       "    </tr>\n",
       "    <tr>\n",
       "      <th>std</th>\n",
       "      <td>0.712246</td>\n",
       "    </tr>\n",
       "    <tr>\n",
       "      <th>min</th>\n",
       "      <td>1.000000</td>\n",
       "    </tr>\n",
       "    <tr>\n",
       "      <th>25%</th>\n",
       "      <td>1.000000</td>\n",
       "    </tr>\n",
       "    <tr>\n",
       "      <th>50%</th>\n",
       "      <td>1.000000</td>\n",
       "    </tr>\n",
       "    <tr>\n",
       "      <th>75%</th>\n",
       "      <td>2.000000</td>\n",
       "    </tr>\n",
       "    <tr>\n",
       "      <th>max</th>\n",
       "      <td>6.000000</td>\n",
       "    </tr>\n",
       "  </tbody>\n",
       "</table>\n",
       "</div>"
      ],
      "text/plain": [
       "         count_user\n",
       "count  15244.000000\n",
       "mean       1.369326\n",
       "std        0.712246\n",
       "min        1.000000\n",
       "25%        1.000000\n",
       "50%        1.000000\n",
       "75%        2.000000\n",
       "max        6.000000"
      ]
     },
     "execution_count": 43,
     "metadata": {},
     "output_type": "execute_result"
    }
   ],
   "source": [
    "device_df_post.describe()\n"
   ]
  },
  {
   "cell_type": "code",
   "execution_count": null,
   "metadata": {
    "collapsed": false
   },
   "outputs": [],
   "source": []
  },
  {
   "cell_type": "code",
   "execution_count": 44,
   "metadata": {
    "collapsed": false
   },
   "outputs": [
    {
     "data": {
      "image/png": "[encoded data removed]",
      "text/plain": [
       "<matplotlib.figure.Figure at 0x11b5d5110>"
      ]
     },
     "metadata": {},
     "output_type": "display_data"
    }
   ],
   "source": [
    "ax = sns.barplot(x=\"country\", y=\"money_spent\",hue='is_referral', data=df_post)"
   ]
  },
  {
   "cell_type": "code",
   "execution_count": 45,
   "metadata": {
    "collapsed": false
   },
   "outputs": [
    {
     "data": {
      "text/plain": [
       "<matplotlib.axes._subplots.AxesSubplot at 0x11ac257d0>"
      ]
     },
     "execution_count": 45,
     "metadata": {},
     "output_type": "execute_result"
    },
    {
     "data": {
      "image/png": "[encoded data removed]",
      "text/plain": [
       "<matplotlib.figure.Figure at 0x11ab68210>"
      ]
     },
     "metadata": {},
     "output_type": "display_data"
    }
   ],
   "source": [
    "sns.countplot(x='money_spent', hue='is_referral', data =df_post)"
   ]
  },
  {
   "cell_type": "code",
   "execution_count": 46,
   "metadata": {
    "collapsed": true
   },
   "outputs": [],
   "source": [
    "df['isAfter'] = np.where(df['date']>= '2015-10-31', 1, 0)"
   ]
  },
  {
   "cell_type": "code",
   "execution_count": 47,
   "metadata": {
    "collapsed": false
   },
   "outputs": [
    {
     "data": {
      "image/png": "[encoded data removed]",
      "text/plain": [
       "<matplotlib.figure.Figure at 0x11a5d9890>"
      ]
     },
     "metadata": {},
     "output_type": "display_data"
    }
   ],
   "source": [
    "ax = sns.barplot(x=\"country\", y=\"money_spent\",hue='isAfter', data=df,color='red')"
   ]
  },
  {
   "cell_type": "code",
   "execution_count": 48,
   "metadata": {
    "collapsed": false
   },
   "outputs": [
    {
     "data": {
      "text/plain": [
       "country\n",
       "CA    3072\n",
       "CH     684\n",
       "DE    3587\n",
       "ES    2826\n",
       "FR    3676\n",
       "IT    3124\n",
       "MX    2484\n",
       "UK    3804\n",
       "US    3921\n",
       "Name: user_id, dtype: int64"
      ]
     },
     "execution_count": 48,
     "metadata": {},
     "output_type": "execute_result"
    }
   ],
   "source": [
    "df_pre.groupby('country').user_id.nunique()"
   ]
  },
  {
   "cell_type": "code",
   "execution_count": 49,
   "metadata": {
    "collapsed": false
   },
   "outputs": [
    {
     "data": {
      "text/plain": [
       "country\n",
       "CA    4103\n",
       "CH     485\n",
       "DE    4226\n",
       "ES    4898\n",
       "FR    7128\n",
       "IT    5557\n",
       "MX    4180\n",
       "UK    6750\n",
       "US    6253\n",
       "Name: user_id, dtype: int64"
      ]
     },
     "execution_count": 49,
     "metadata": {},
     "output_type": "execute_result"
    }
   ],
   "source": [
    "\n",
    "df_post.groupby('country').user_id.nunique()\n"
   ]
  },
  {
   "cell_type": "code",
   "execution_count": 50,
   "metadata": {
    "collapsed": false
   },
   "outputs": [],
   "source": [
    "daily_count_df_after = df_post.groupby('date').user_id.count().reset_index()\n",
    "daily_count_df_before = df_pre.groupby('date').user_id.count().reset_index()\n"
   ]
  },
  {
   "cell_type": "code",
   "execution_count": 51,
   "metadata": {
    "collapsed": false
   },
   "outputs": [
    {
     "data": {
      "image/png": "[encoded data removed]",
      "text/plain": [
       "<matplotlib.figure.Figure at 0x11abaa410>"
      ]
     },
     "metadata": {},
     "output_type": "display_data"
    }
   ],
   "source": [
    "## Plot normalized histogram of query results.\n",
    "\n",
    "plt.figure(figsize = (5,5))\n",
    "plt.hist(daily_count_df_after.user_id, bins = 50, edgecolor = 'k', facecolor = 'b', normed = True)\n",
    "plt.title('Distribution of Daily Traffic After Referral Program'+'\\n')\n",
    "plt.ylim([0,.008])\n",
    "plt.xlabel('Users Per Day')\n",
    "plt.ylabel('Frequency')\n",
    "plt.show()"
   ]
  },
  {
   "cell_type": "code",
   "execution_count": 52,
   "metadata": {
    "collapsed": false
   },
   "outputs": [
    {
     "data": {
      "image/png": "[encoded data removed]",
      "text/plain": [
       "<matplotlib.figure.Figure at 0x11c4a2a90>"
      ]
     },
     "metadata": {},
     "output_type": "display_data"
    }
   ],
   "source": [
    "plt.figure(figsize = (5,5))\n",
    "plt.hist(daily_count_df_before.user_id, bins = 50, edgecolor = 'k', facecolor = 'b', normed = True)\n",
    "plt.title('Distribution of Daily Traffic Before Referral Program'+'\\n')\n",
    "plt.xlabel('Users Per Day')\n",
    "plt.ylabel('Frequency')\n",
    "plt.show()"
   ]
  },
  {
   "cell_type": "markdown",
   "metadata": {},
   "source": [
    "base on the plots shown above, number of purchases per day before and after the referral program are not significantly different. The purchase rate during weekends is greater than during weekdays, ~3000 purchases/day."
   ]
  },
  {
   "cell_type": "code",
   "execution_count": null,
   "metadata": {
    "collapsed": true
   },
   "outputs": [],
   "source": []
  }
 ],
 "metadata": {
  "kernelspec": {
   "display_name": "Python 2",
   "language": "python",
   "name": "python2"
  },
  "language_info": {
   "codemirror_mode": {
    "name": "ipython",
    "version": 2
   },
   "file_extension": ".py",
   "mimetype": "text/x-python",
   "name": "python",
   "nbconvert_exporter": "python",
   "pygments_lexer": "ipython2",
   "version": "2.7.12"
  }
 },
 "nbformat": 4,
 "nbformat_minor": 2
}
